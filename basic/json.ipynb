{
 "cells": [
  {
   "cell_type": "code",
   "execution_count": null,
   "id": "cd9befa7",
   "metadata": {},
   "outputs": [
    {
     "name": "stdout",
     "output_type": "stream",
     "text": [
      "홍길동\n",
      "\n",
      "\n",
      "30\n",
      "name: 홍길동\n",
      "age: 30\n"
     ]
    }
   ],
   "source": [
    "import json\n",
    "\n",
    "# Python → JSON 문자열\n",
    "data = {\"name\": \"홍길동\", \"age\": 30}\n",
    "json_str = json.dumps(data)\n",
    "\n",
    "# JSON 문자열 → Python 객체\n",
    "parsed = json.loads(json_str)\n",
    "print(parsed[\"name\"])  # \"홍길동\"\n",
    "print(parsed[\"age\"]) \n",
    "\n",
    "for key, value in parsed.items():\n",
    "    print(f\"{key}: {value}\")\n"
   ]
  }
 ],
 "metadata": {
  "kernelspec": {
   "display_name": "Python 3",
   "language": "python",
   "name": "python3"
  },
  "language_info": {
   "codemirror_mode": {
    "name": "ipython",
    "version": 3
   },
   "file_extension": ".py",
   "mimetype": "text/x-python",
   "name": "python",
   "nbconvert_exporter": "python",
   "pygments_lexer": "ipython3",
   "version": "3.10.12"
  }
 },
 "nbformat": 4,
 "nbformat_minor": 5
}
