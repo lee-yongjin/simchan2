{
 "cells": [
  {
   "cell_type": "code",
   "execution_count": null,
   "id": "8e87acb8",
   "metadata": {},
   "outputs": [],
   "source": [
    "import mysql.connector\n",
    "import datetime\n",
    "\n",
    "# MySQL에 연결\n",
    "conn = mysql.connector.connect(\n",
    "    host=\"localhost\",       # 또는 '127.0.0.1'\n",
    "    user=\"lee2\",   # 예: 'root'\n",
    "    password=\"Lee12345!\",\n",
    "    database=\"lee\"  # 연결할 DB 이름\n",
    ")\n",
    "\n",
    "# 커서 생성\n",
    "cursor = conn.cursor()"
   ]
  },
  {
   "cell_type": "code",
   "execution_count": null,
   "id": "758e8a73",
   "metadata": {},
   "outputs": [
    {
     "name": "stdout",
     "output_type": "stream",
     "text": [
      "(1, 'hoho', 'test 입니다 01', None)\n",
      "(2, 'haha', 'test 입니다 02', None)\n",
      "(3, 'huhu', 'test 입니다 03', datetime.date(2025, 4, 23))\n",
      "(4, 'hehe', 'test 입니다 04', datetime.date(2025, 4, 23))\n",
      "(6, 'newname', 'newname입니다', datetime.date(2025, 4, 24))\n"
     ]
    }
   ],
   "source": [
    "#######################################################\n",
    "#   insert  select  \n",
    "########################################################\n",
    "\n",
    "today = datetime.date.today()\n",
    "cursor.execute(\"INSERT INTO test (name, title, date) VALUES (%s, %s, %s)\", ('newname', 'newname입니다', today))\n",
    "\n",
    "# 예제 쿼리 실행\n",
    "cursor.execute(\"SELECT * FROM test\")\n",
    "\n",
    "# 결과 가져오기\n",
    "rows = cursor.fetchall()\n",
    "for row in rows:\n",
    "    print(row)\n",
    "\n"
   ]
  },
  {
   "cell_type": "code",
   "execution_count": null,
   "id": "75b7e16d",
   "metadata": {},
   "outputs": [
    {
     "name": "stdout",
     "output_type": "stream",
     "text": [
      "(1, 'hoho', 'test 입니다 01', None)\n",
      "(2, 'haha', 'test 입니다 02', None)\n",
      "(3, 'huhu', 'test 입니다 03', datetime.date(2025, 4, 23))\n",
      "(4, 'hehe', 'update 테스트입니다', datetime.date(2025, 4, 23))\n"
     ]
    }
   ],
   "source": [
    "#######################################################\n",
    "#   update  select  \n",
    "########################################################\n",
    "\n",
    "# 커서 생성\n",
    "cursor = conn.cursor()\n",
    "\n",
    "today = datetime.date.today()\n",
    "cursor.execute(\"UPDATE test SET title = 'update 테스트입니다' WHERE id = 4 \")\n",
    "\n",
    "# 예제 쿼리 실행\n",
    "cursor.execute(\"SELECT * FROM test\")\n",
    "\n",
    "# 결과 가져오기\n",
    "rows = cursor.fetchall()\n",
    "for row in rows:\n",
    "    print(row)\n"
   ]
  },
  {
   "cell_type": "code",
   "execution_count": null,
   "id": "1e7852f6",
   "metadata": {},
   "outputs": [],
   "source": [
    "# 연결 종료\n",
    "cursor.close()\n",
    "conn.close()"
   ]
  }
 ],
 "metadata": {
  "kernelspec": {
   "display_name": "Python 3",
   "language": "python",
   "name": "python3"
  },
  "language_info": {
   "codemirror_mode": {
    "name": "ipython",
    "version": 3
   },
   "file_extension": ".py",
   "mimetype": "text/x-python",
   "name": "python",
   "nbconvert_exporter": "python",
   "pygments_lexer": "ipython3",
   "version": "3.10.12"
  }
 },
 "nbformat": 4,
 "nbformat_minor": 5
}
